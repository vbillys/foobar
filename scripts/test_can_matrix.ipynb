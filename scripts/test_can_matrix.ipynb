{
 "metadata": {
  "name": "",
  "signature": "sha256:c5946f449b65ded46c267370e3daacb560fa909a7e1c699572b5841f9f266cfa"
 },
 "nbformat": 3,
 "nbformat_minor": 0,
 "worksheets": [
  {
   "cells": [
    {
     "cell_type": "code",
     "collapsed": false,
     "input": [
      "import os, sys"
     ],
     "language": "python",
     "metadata": {},
     "outputs": [],
     "prompt_number": 1
    },
    {
     "cell_type": "code",
     "collapsed": false,
     "input": [
      "os.getcwd()"
     ],
     "language": "python",
     "metadata": {},
     "outputs": [
      {
       "metadata": {},
       "output_type": "pyout",
       "prompt_number": 2,
       "text": [
        "'C:\\\\Users\\\\Billy\\\\Documents\\\\AvScript\\\\_test_edit'"
       ]
      }
     ],
     "prompt_number": 2
    },
    {
     "cell_type": "code",
     "collapsed": false,
     "input": [
      "sys.path"
     ],
     "language": "python",
     "metadata": {},
     "outputs": [
      {
       "metadata": {},
       "output_type": "pyout",
       "prompt_number": 3,
       "text": [
        "['',\n",
        " 'C:\\\\Python27\\\\lib\\\\site-packages\\\\pyjs-0.8.2-py2.7.egg',\n",
        " 'C:\\\\Windows\\\\system32\\\\python27.zip',\n",
        " 'C:\\\\Python27\\\\DLLs',\n",
        " 'C:\\\\Python27\\\\lib',\n",
        " 'C:\\\\Python27\\\\lib\\\\plat-win',\n",
        " 'C:\\\\Python27\\\\lib\\\\lib-tk',\n",
        " 'C:\\\\Python27',\n",
        " 'C:\\\\Python27\\\\lib\\\\site-packages',\n",
        " 'C:\\\\Python27\\\\lib\\\\site-packages\\\\IPython\\\\extensions']"
       ]
      }
     ],
     "prompt_number": 3
    },
    {
     "cell_type": "code",
     "collapsed": false,
     "input": [
      "sys.path.append('C:\\\\Users\\\\Billy\\\\Documents\\\\AvScript\\\\_test_edit\\\\canmatrix')"
     ],
     "language": "python",
     "metadata": {},
     "outputs": [],
     "prompt_number": 4
    },
    {
     "cell_type": "code",
     "collapsed": false,
     "input": [
      "import library.exportall as ex\n",
      "import library.importall as im\n",
      "import library.canmatrix as cm\n"
     ],
     "language": "python",
     "metadata": {},
     "outputs": [
      {
       "output_type": "stream",
       "stream": "stdout",
       "text": [
        "no kcd-export-support, some dependencys missing... \n",
        "no xls-export-support, some dependencys missing... \n",
        "no arxml-import-support, some dependencys missing... "
       ]
      },
      {
       "output_type": "stream",
       "stream": "stdout",
       "text": [
        "\n",
        "no kcd-import-support, some dependencys missing... \n",
        "no xls-import-support, some dependencys missing... \n"
       ]
      }
     ],
     "prompt_number": 5
    },
    {
     "cell_type": "code",
     "collapsed": false,
     "input": [
      "db = im.importDbc('ESR_radar.dbc')\n"
     ],
     "language": "python",
     "metadata": {},
     "outputs": [],
     "prompt_number": 6
    },
    {
     "cell_type": "code",
     "collapsed": false,
     "input": [
      "db"
     ],
     "language": "python",
     "metadata": {},
     "outputs": [
      {
       "metadata": {},
       "output_type": "pyout",
       "prompt_number": 7,
       "text": [
        "<library.canmatrix.CanMatrix instance at 0x038DFC38>"
       ]
      }
     ],
     "prompt_number": 7
    },
    {
     "cell_type": "code",
     "collapsed": false,
     "input": [
      "print(db)"
     ],
     "language": "python",
     "metadata": {},
     "outputs": [
      {
       "output_type": "stream",
       "stream": "stdout",
       "text": [
        "<library.canmatrix.CanMatrix instance at 0x038DFC38>\n"
       ]
      }
     ],
     "prompt_number": 8
    },
    {
     "cell_type": "code",
     "collapsed": false,
     "input": [
      "repr(db)"
     ],
     "language": "python",
     "metadata": {},
     "outputs": [
      {
       "metadata": {},
       "output_type": "pyout",
       "prompt_number": 9,
       "text": [
        "'<library.canmatrix.CanMatrix instance at 0x038DFC38>'"
       ]
      }
     ],
     "prompt_number": 9
    },
    {
     "cell_type": "code",
     "collapsed": false,
     "input": [
      "print \"%d Frames found\" % (db._fl._list.__len__())"
     ],
     "language": "python",
     "metadata": {},
     "outputs": [
      {
       "output_type": "stream",
       "stream": "stdout",
       "text": [
        "128 Frames found\n"
       ]
      }
     ],
     "prompt_number": 10
    },
    {
     "cell_type": "code",
     "collapsed": false,
     "input": [
      "print db._fl._list"
     ],
     "language": "python",
     "metadata": {},
     "outputs": [
      {
       "output_type": "stream",
       "stream": "stdout",
       "text": [
        "[<library.canmatrix.Frame instance at 0x0399AA80>, <library.canmatrix.Frame instance at 0x039C5508>, <library.canmatrix.Frame instance at 0x039C5760>, <library.canmatrix.Frame instance at 0x039C5A58>, <library.canmatrix.Frame instance at 0x039C5F80>, <library.canmatrix.Frame instance at 0x03A0B4E0>, <library.canmatrix.Frame instance at 0x03A0BA08>, <library.canmatrix.Frame instance at 0x03A0BF30>, <library.canmatrix.Frame instance at 0x03A12490>, <library.canmatrix.Frame instance at 0x03A129B8>, <library.canmatrix.Frame instance at 0x03A12EE0>, <library.canmatrix.Frame instance at 0x03A19440>, <library.canmatrix.Frame instance at 0x03A19968>, <library.canmatrix.Frame instance at 0x03A19E90>, <library.canmatrix.Frame instance at 0x03A1E3F0>, <library.canmatrix.Frame instance at 0x03A1E918>, <library.canmatrix.Frame instance at 0x03A1EE40>, <library.canmatrix.Frame instance at 0x03A243A0>, <library.canmatrix.Frame instance at 0x03A248C8>, <library.canmatrix.Frame instance at 0x03A24DF0>, <library.canmatrix.Frame instance at 0x03A2A350>, <library.canmatrix.Frame instance at 0x03A2A878>, <library.canmatrix.Frame instance at 0x03A2ADA0>, <library.canmatrix.Frame instance at 0x03A31300>, <library.canmatrix.Frame instance at 0x03A31828>, <library.canmatrix.Frame instance at 0x03A31D50>, <library.canmatrix.Frame instance at 0x03A372B0>, <library.canmatrix.Frame instance at 0x03A377D8>, <library.canmatrix.Frame instance at 0x03A37D00>, <library.canmatrix.Frame instance at 0x03A3D260>, <library.canmatrix.Frame instance at 0x03A3D788>, <library.canmatrix.Frame instance at 0x03A3DCB0>, <library.canmatrix.Frame instance at 0x03A43210>, <library.canmatrix.Frame instance at 0x03A43738>, <library.canmatrix.Frame instance at 0x03A43C60>, <library.canmatrix.Frame instance at 0x03A7A1C0>, <library.canmatrix.Frame instance at 0x03A7A6E8>, <library.canmatrix.Frame instance at 0x03A7AC10>, <library.canmatrix.Frame instance at 0x03A80170>, <library.canmatrix.Frame instance at 0x03A80698>, <library.canmatrix.Frame instance at 0x03A80BC0>, <library.canmatrix.Frame instance at 0x03A85120>, <library.canmatrix.Frame instance at 0x03A85648>, <library.canmatrix.Frame instance at 0x03A85B70>, <library.canmatrix.Frame instance at 0x03A8C0D0>, <library.canmatrix.Frame instance at 0x03A8C5F8>, <library.canmatrix.Frame instance at 0x03A8CB20>, <library.canmatrix.Frame instance at 0x03A92080>, <library.canmatrix.Frame instance at 0x03A925A8>, <library.canmatrix.Frame instance at 0x03A92AD0>, <library.canmatrix.Frame instance at 0x03A98030>, <library.canmatrix.Frame instance at 0x03A98558>, <library.canmatrix.Frame instance at 0x03A98A80>, <library.canmatrix.Frame instance at 0x03A98FA8>, <library.canmatrix.Frame instance at 0x03A9E508>, <library.canmatrix.Frame instance at 0x03A9EA30>, <library.canmatrix.Frame instance at 0x03A9EF58>, <library.canmatrix.Frame instance at 0x03AA34B8>, <library.canmatrix.Frame instance at 0x03AA39E0>, <library.canmatrix.Frame instance at 0x03AA3F08>, <library.canmatrix.Frame instance at 0x03AAA468>, <library.canmatrix.Frame instance at 0x03AAA990>, <library.canmatrix.Frame instance at 0x03AAAEB8>, <library.canmatrix.Frame instance at 0x03AB0418>, <library.canmatrix.Frame instance at 0x03AB0940>, <library.canmatrix.Frame instance at 0x03AB0E68>, <library.canmatrix.Frame instance at 0x03AD83F0>, <library.canmatrix.Frame instance at 0x03AD84B8>, <library.canmatrix.Frame instance at 0x03AD85A8>, <library.canmatrix.Frame instance at 0x03AD8698>, <library.canmatrix.Frame instance at 0x03AD8788>, <library.canmatrix.Frame instance at 0x03AD8878>, <library.canmatrix.Frame instance at 0x03AD8968>, <library.canmatrix.Frame instance at 0x03AD8A58>, <library.canmatrix.Frame instance at 0x03AD8B48>, <library.canmatrix.Frame instance at 0x03AD8C38>, <library.canmatrix.Frame instance at 0x03AD8D28>, <library.canmatrix.Frame instance at 0x03AD8E18>, <library.canmatrix.Frame instance at 0x03AD8F08>, <library.canmatrix.Frame instance at 0x03ADB030>, <library.canmatrix.Frame instance at 0x03ADB120>, <library.canmatrix.Frame instance at 0x03ADB210>, <library.canmatrix.Frame instance at 0x03ADB300>, <library.canmatrix.Frame instance at 0x03ADB3F0>, <library.canmatrix.Frame instance at 0x03ADB4B8>, <library.canmatrix.Frame instance at 0x03ADB8A0>, <library.canmatrix.Frame instance at 0x03ADBC88>, <library.canmatrix.Frame instance at 0x03AE1328>, <library.canmatrix.Frame instance at 0x03AE13C8>, <library.canmatrix.Frame instance at 0x03AE1490>, <library.canmatrix.Frame instance at 0x03AE1558>, <library.canmatrix.Frame instance at 0x03AE1620>, <library.canmatrix.Frame instance at 0x03AE16E8>, <library.canmatrix.Frame instance at 0x03AE17B0>, <library.canmatrix.Frame instance at 0x03AE1878>, <library.canmatrix.Frame instance at 0x03AE1940>, <library.canmatrix.Frame instance at 0x03AE1A08>, <library.canmatrix.Frame instance at 0x03AE1AD0>, <library.canmatrix.Frame instance at 0x03AE1B98>, <library.canmatrix.Frame instance at 0x03AE1C60>, <library.canmatrix.Frame instance at 0x03AE1FD0>, <library.canmatrix.Frame instance at 0x03AE5350>, <library.canmatrix.Frame instance at 0x03AE5850>, <library.canmatrix.Frame instance at 0x03AE5C38>, <library.canmatrix.Frame instance at 0x03B0F030>, <library.canmatrix.Frame instance at 0x03B0F558>, <library.canmatrix.Frame instance at 0x03B0F7D8>, <library.canmatrix.Frame instance at 0x03B0FA80>, <library.canmatrix.Frame instance at 0x03B0FB48>, <library.canmatrix.Frame instance at 0x03B0FC38>, <library.canmatrix.Frame instance at 0x03B0FD28>, <library.canmatrix.Frame instance at 0x03B0FE18>, <library.canmatrix.Frame instance at 0x03B0FF08>, <library.canmatrix.Frame instance at 0x03B13030>, <library.canmatrix.Frame instance at 0x03B13120>, <library.canmatrix.Frame instance at 0x03B13210>, <library.canmatrix.Frame instance at 0x03B13300>, <library.canmatrix.Frame instance at 0x03B133F0>, <library.canmatrix.Frame instance at 0x03B134E0>, <library.canmatrix.Frame instance at 0x03B138C8>, <library.canmatrix.Frame instance at 0x03B13BC0>, <library.canmatrix.Frame instance at 0x03B13C88>, <library.canmatrix.Frame instance at 0x04B43198>, <library.canmatrix.Frame instance at 0x04B43440>, <library.canmatrix.Frame instance at 0x04B43968>, <library.canmatrix.Frame instance at 0x04B43E68>, <library.canmatrix.Frame instance at 0x04B491E8>, <library.canmatrix.Frame instance at 0x04B498A0>]\n"
       ]
      }
     ],
     "prompt_number": 12
    },
    {
     "cell_type": "code",
     "collapsed": false,
     "input": [
      "print db._signalDefines, db._frameDefines, db._buDefines, db._globalDefines, db._valueTables"
     ],
     "language": "python",
     "metadata": {},
     "outputs": [
      {
       "output_type": "stream",
       "stream": "stdout",
       "text": [
        "{} {} {} {} {'ENABLE': {'1': 'Enabled', '0': 'Disabled'}, 'GROUP': {'1': 'Group2', '0': 'Group1', '3': 'Group4', '2': 'Group3'}, 'WHEEL_SLIP': {'1': 'Brake_Slip_Control', '0': 'No_Control', '3': 'Invalid_3', '2': 'Traction_Slip_Control'}, 'Interface_Version': {'11': 'zInvalid0B', '10': 'zInvalid0A', '13': 'zInvalid0D', '12': 'zInvalid0C', '15': 'zInvalid0F', '14': 'zInvalid0E', '1': 'ADP_DV1', '0': 'TDP', '3': 'zInvalid03', '2': 'zInvalid02', '5': 'zInvalid05', '4': 'zInvalid04', '7': 'zInvalid07', '6': 'zInvalid06', '9': 'zInvalid09', '8': 'zInvalid08'}, 'NOTMOVABLE_MOVABLE': {'1': 'Movable', '0': 'Not_Movable'}, 'TRACK_STATUS': {'1': 'New_Target', '0': 'No_Target', '3': 'Updated_Target', '2': 'New_Updated_Target', '5': 'Merged_Target', '4': 'Coasted_Target', '7': 'New_Coasted_Target', '6': 'Invalid_Coasted_Target'}, 'SIM_TRACK_ID': {'1': 'Target_1', '0': 'No_Target', '2': 'Target_2'}, 'CONVERGED': {'1': 'Converged', '0': 'Not_Converged'}, 'Grating_Lobe': {'1': 'Detected', '0': 'Not_Detected'}, 'MED_RANGE_MODE': {'1': 'MR_Update_Only', '0': 'No_MR_LR_Update', '3': 'Both_MR_LR_Update', '2': 'LR_Update_Only'}, 'SA_TYPE': {'1': 'VOLVO_SHORT_TRACK', '0': 'AUTO_OR_DEALER'}, 'NODETECT_DETECT': {'1': 'Detect', '0': 'No_Detect'}, 'FILTERED_RAW': {'1': 'Raw', '0': 'Filtered'}, 'FACTORY_ALIGN_STATUS': {'1': 'BUSY', '0': 'OFF', '3': 'FAIL_NO_TARGET', '2': 'SUCCESS', '5': 'FAIL_VAR_TOO_LARGE', '4': 'FAIL_DEV_TOO_LARGE'}, 'STATIONARY_MOVING': {'1': 'Moving', '0': 'Stationary'}, 'DISABLE': {'1': 'Disabled', '0': 'Enabled'}, 'OFF_ON': {'1': 'On', '0': 'Off'}, 'Oncoming': {'1': 'Oncoming', '0': 'NotOncoming'}, 'VOLVO_SHORT_TRACK_PLANT': {'1': 'Gent', '0': 'Torslanda'}, 'FOUND_TARGET': {'1': 'Found', '0': 'Not_Found'}, 'SYSTEM_POWER_MODE': {'1': 'RADIATE_OFF', '0': 'DSP_INIT', '3': 'DSP_SHUTDOWN', '2': 'RADIATE_ON', '5': 'HOST_SHUTDOWN', '4': 'DSP_OFF', '7': '7invalid', '6': 'TEST'}, 'VALIDITY': {'1': 'Valid', '0': 'Invalid'}, 'RECOMMEND': {'1': 'Recommend', '0': 'Not_Recommend'}, 'Bridge': {'1': 'Bridge', '0': 'Not_Bridge'}, 'UPDATED': {'1': 'Updated', '0': 'Not_Updated'}, 'SIM_STATUS': {'1': 'New', '0': 'Invalid', '3': 'Coasted', '2': 'Updated'}, 'UPSIDE_DOWN': {'1': 'Upside_Down', '0': 'Right_Side_Up'}, 'GroupingChanged': {'1': 'GroupingChanged', '0': 'GroupingUnchanged'}, 'SW_SIGN': {'1': 'Clockwise', '0': 'Counterclockwise'}, 'NOTFAIL_FAIL': {'1': 'Failed', '0': 'Not Failed'}, 'UNGROUPED_GROUPED': {'1': 'Group_Moving_Only', '0': 'No_Grouping', '3': 'Group_Moving_Stationary', '2': 'Group_Stationary_Only'}, 'NOTBLOCKED_BLOCKED': {'1': 'Blocked', '0': 'Not Blocked'}, 'NOTOVERTEMP_OVERTEMP': {'1': 'OverTemp', '0': 'Not OverTemp'}, 'TURN_SIGNAL_STATUS': {'1': 'Left', '0': 'Off', '3': 'Invalid_3', '2': 'Right'}, 'Water_Spray_Detected': {'1': 'Spray', '0': 'No_Spray'}, 'NOTCROSSING_CROSSING': {'1': 'Crossing', '0': 'Not_Crossing'}, 'VEHICLE_SPEED_DIRECTION': {'1': 'Reverse', '0': 'Forward'}, 'MR_LR_MODE': {'1': 'Output only MR-range tracks', '0': 'Reserved', '3': 'Output MR and LR tracks', '2': 'Output only LR-range tracks'}, 'SIM_FUNCTION': {'1': 'RI', '0': 'ACC', '3': 'FCW_Stat', '2': 'FCW_Move', '5': 'CMbB_Stat', '4': 'CMbB_Move', '7': 'All_Stat_RI_FCW_CMbB', '6': 'All_Moving_ACC_FCW_CMbB'}}\n"
       ]
      }
     ],
     "prompt_number": 15
    },
    {
     "cell_type": "code",
     "collapsed": false,
     "input": [
      "db._valueTables"
     ],
     "language": "python",
     "metadata": {},
     "outputs": [
      {
       "metadata": {},
       "output_type": "pyout",
       "prompt_number": 16,
       "text": [
        "{'Bridge': {'0': 'Not_Bridge', '1': 'Bridge'},\n",
        " 'CONVERGED': {'0': 'Not_Converged', '1': 'Converged'},\n",
        " 'DISABLE': {'0': 'Enabled', '1': 'Disabled'},\n",
        " 'ENABLE': {'0': 'Disabled', '1': 'Enabled'},\n",
        " 'FACTORY_ALIGN_STATUS': {'0': 'OFF',\n",
        "  '1': 'BUSY',\n",
        "  '2': 'SUCCESS',\n",
        "  '3': 'FAIL_NO_TARGET',\n",
        "  '4': 'FAIL_DEV_TOO_LARGE',\n",
        "  '5': 'FAIL_VAR_TOO_LARGE'},\n",
        " 'FILTERED_RAW': {'0': 'Filtered', '1': 'Raw'},\n",
        " 'FOUND_TARGET': {'0': 'Not_Found', '1': 'Found'},\n",
        " 'GROUP': {'0': 'Group1', '1': 'Group2', '2': 'Group3', '3': 'Group4'},\n",
        " 'Grating_Lobe': {'0': 'Not_Detected', '1': 'Detected'},\n",
        " 'GroupingChanged': {'0': 'GroupingUnchanged', '1': 'GroupingChanged'},\n",
        " 'Interface_Version': {'0': 'TDP',\n",
        "  '1': 'ADP_DV1',\n",
        "  '10': 'zInvalid0A',\n",
        "  '11': 'zInvalid0B',\n",
        "  '12': 'zInvalid0C',\n",
        "  '13': 'zInvalid0D',\n",
        "  '14': 'zInvalid0E',\n",
        "  '15': 'zInvalid0F',\n",
        "  '2': 'zInvalid02',\n",
        "  '3': 'zInvalid03',\n",
        "  '4': 'zInvalid04',\n",
        "  '5': 'zInvalid05',\n",
        "  '6': 'zInvalid06',\n",
        "  '7': 'zInvalid07',\n",
        "  '8': 'zInvalid08',\n",
        "  '9': 'zInvalid09'},\n",
        " 'MED_RANGE_MODE': {'0': 'No_MR_LR_Update',\n",
        "  '1': 'MR_Update_Only',\n",
        "  '2': 'LR_Update_Only',\n",
        "  '3': 'Both_MR_LR_Update'},\n",
        " 'MR_LR_MODE': {'0': 'Reserved',\n",
        "  '1': 'Output only MR-range tracks',\n",
        "  '2': 'Output only LR-range tracks',\n",
        "  '3': 'Output MR and LR tracks'},\n",
        " 'NODETECT_DETECT': {'0': 'No_Detect', '1': 'Detect'},\n",
        " 'NOTBLOCKED_BLOCKED': {'0': 'Not Blocked', '1': 'Blocked'},\n",
        " 'NOTCROSSING_CROSSING': {'0': 'Not_Crossing', '1': 'Crossing'},\n",
        " 'NOTFAIL_FAIL': {'0': 'Not Failed', '1': 'Failed'},\n",
        " 'NOTMOVABLE_MOVABLE': {'0': 'Not_Movable', '1': 'Movable'},\n",
        " 'NOTOVERTEMP_OVERTEMP': {'0': 'Not OverTemp', '1': 'OverTemp'},\n",
        " 'OFF_ON': {'0': 'Off', '1': 'On'},\n",
        " 'Oncoming': {'0': 'NotOncoming', '1': 'Oncoming'},\n",
        " 'RECOMMEND': {'0': 'Not_Recommend', '1': 'Recommend'},\n",
        " 'SA_TYPE': {'0': 'AUTO_OR_DEALER', '1': 'VOLVO_SHORT_TRACK'},\n",
        " 'SIM_FUNCTION': {'0': 'ACC',\n",
        "  '1': 'RI',\n",
        "  '2': 'FCW_Move',\n",
        "  '3': 'FCW_Stat',\n",
        "  '4': 'CMbB_Move',\n",
        "  '5': 'CMbB_Stat',\n",
        "  '6': 'All_Moving_ACC_FCW_CMbB',\n",
        "  '7': 'All_Stat_RI_FCW_CMbB'},\n",
        " 'SIM_STATUS': {'0': 'Invalid', '1': 'New', '2': 'Updated', '3': 'Coasted'},\n",
        " 'SIM_TRACK_ID': {'0': 'No_Target', '1': 'Target_1', '2': 'Target_2'},\n",
        " 'STATIONARY_MOVING': {'0': 'Stationary', '1': 'Moving'},\n",
        " 'SW_SIGN': {'0': 'Counterclockwise', '1': 'Clockwise'},\n",
        " 'SYSTEM_POWER_MODE': {'0': 'DSP_INIT',\n",
        "  '1': 'RADIATE_OFF',\n",
        "  '2': 'RADIATE_ON',\n",
        "  '3': 'DSP_SHUTDOWN',\n",
        "  '4': 'DSP_OFF',\n",
        "  '5': 'HOST_SHUTDOWN',\n",
        "  '6': 'TEST',\n",
        "  '7': '7invalid'},\n",
        " 'TRACK_STATUS': {'0': 'No_Target',\n",
        "  '1': 'New_Target',\n",
        "  '2': 'New_Updated_Target',\n",
        "  '3': 'Updated_Target',\n",
        "  '4': 'Coasted_Target',\n",
        "  '5': 'Merged_Target',\n",
        "  '6': 'Invalid_Coasted_Target',\n",
        "  '7': 'New_Coasted_Target'},\n",
        " 'TURN_SIGNAL_STATUS': {'0': 'Off',\n",
        "  '1': 'Left',\n",
        "  '2': 'Right',\n",
        "  '3': 'Invalid_3'},\n",
        " 'UNGROUPED_GROUPED': {'0': 'No_Grouping',\n",
        "  '1': 'Group_Moving_Only',\n",
        "  '2': 'Group_Stationary_Only',\n",
        "  '3': 'Group_Moving_Stationary'},\n",
        " 'UPDATED': {'0': 'Not_Updated', '1': 'Updated'},\n",
        " 'UPSIDE_DOWN': {'0': 'Right_Side_Up', '1': 'Upside_Down'},\n",
        " 'VALIDITY': {'0': 'Invalid', '1': 'Valid'},\n",
        " 'VEHICLE_SPEED_DIRECTION': {'0': 'Forward', '1': 'Reverse'},\n",
        " 'VOLVO_SHORT_TRACK_PLANT': {'0': 'Torslanda', '1': 'Gent'},\n",
        " 'WHEEL_SLIP': {'0': 'No_Control',\n",
        "  '1': 'Brake_Slip_Control',\n",
        "  '2': 'Traction_Slip_Control',\n",
        "  '3': 'Invalid_3'},\n",
        " 'Water_Spray_Detected': {'0': 'No_Spray', '1': 'Spray'}}"
       ]
      }
     ],
     "prompt_number": 16
    },
    {
     "cell_type": "code",
     "collapsed": false,
     "input": [
      "from collections import namedtuple\n",
      "def convert(dictionary):\n",
      "    return namedtuple('GenericDict', dictionary.keys())(**dictionary)\n",
      "print type(db._valueTables)\n",
      "print db._valueTables['VEHICLE_SPEED_DIRECTION']\n",
      "_dict = db._valueTables['VEHICLE_SPEED_DIRECTION']\n",
      "_dict[str(int(0))]\n",
      "\n",
      "#convert(db._valueTables['VEHICLE_SPEED_DIRECTION'])"
     ],
     "language": "python",
     "metadata": {},
     "outputs": [
      {
       "output_type": "stream",
       "stream": "stdout",
       "text": [
        "<type 'dict'>\n",
        "{'1': 'Reverse', '0': 'Forward'}\n"
       ]
      },
      {
       "metadata": {},
       "output_type": "pyout",
       "prompt_number": 155,
       "text": [
        "'Forward'"
       ]
      }
     ],
     "prompt_number": 155
    },
    {
     "cell_type": "code",
     "collapsed": false,
     "input": [
      "db._signalDefines, db._frameDefines, db._buDefines, db._globalDefines"
     ],
     "language": "python",
     "metadata": {},
     "outputs": [
      {
       "metadata": {},
       "output_type": "pyout",
       "prompt_number": 17,
       "text": [
        "({}, {}, {}, {})"
       ]
      }
     ],
     "prompt_number": 17
    },
    {
     "cell_type": "code",
     "collapsed": false,
     "input": [
      "db._attributes, db._BUs"
     ],
     "language": "python",
     "metadata": {},
     "outputs": [
      {
       "metadata": {},
       "output_type": "pyout",
       "prompt_number": 18,
       "text": [
        "({}, <library.canmatrix.BoardUnitListe instance at 0x0392AEE0>)"
       ]
      }
     ],
     "prompt_number": 18
    },
    {
     "cell_type": "code",
     "collapsed": false,
     "input": [
      "print db._BUs._list"
     ],
     "language": "python",
     "metadata": {},
     "outputs": [
      {
       "output_type": "stream",
       "stream": "stdout",
       "text": [
        "[<library.canmatrix.BoardUnit instance at 0x0392C8F0>, <library.canmatrix.BoardUnit instance at 0x0392C9E0>, <library.canmatrix.BoardUnit instance at 0x038FA4E0>]\n"
       ]
      }
     ],
     "prompt_number": 20
    },
    {
     "cell_type": "code",
     "collapsed": false,
     "input": [
      "for item in db._BUs._list:\n",
      "    print item._attributes, item._name, item._comment"
     ],
     "language": "python",
     "metadata": {},
     "outputs": [
      {
       "output_type": "stream",
       "stream": "stdout",
       "text": [
        "{} Instrumentation None\n",
        "{} Vehicle None\n",
        "{} ESR None\n"
       ]
      }
     ],
     "prompt_number": 24
    },
    {
     "cell_type": "code",
     "collapsed": false,
     "input": [
      "for frame in db._fl._list:\n",
      "    print format(frame._Id,'04x'), frame._name\n",
      "    #print frame._name, frame._Transmitter, frame._Size, frame._signals, frame._attributes"
     ],
     "language": "python",
     "metadata": {},
     "outputs": [
      {
       "output_type": "stream",
       "stream": "stdout",
       "text": [
        "c0000000 VECTOR__INDEPENDENT_SIG_MSG\n",
        "05f5 Vehicle6\n",
        "05e8 ESR_Status9\n",
        "0505 ESR_Track06\n",
        "0506 ESR_Track07\n",
        "0520 ESR_Track33\n",
        "051b ESR_Track28\n",
        "051c ESR_Track29\n",
        "0517 ESR_Track24\n",
        "0512 ESR_Track19\n",
        "051a ESR_Track27\n",
        "051d ESR_Track30\n",
        "050c ESR_Track13\n",
        "0511 ESR_Track18\n",
        "0519 ESR_Track26\n",
        "051e ESR_Track31\n",
        "0510 ESR_Track17\n",
        "0513 ESR_Track20\n",
        "050b ESR_Track12\n",
        "0508 ESR_Track09\n",
        "0509 ESR_Track10\n",
        "0515 ESR_Track22\n",
        "050f ESR_Track16\n",
        "0514 ESR_Track21\n",
        "050e ESR_Track15\n",
        "0516 ESR_Track23\n",
        "0507 ESR_Track08\n",
        "0518 ESR_Track25\n",
        "0521 ESR_Track34\n",
        "0523 ESR_Track36\n",
        "053f ESR_Track64\n",
        "0522 ESR_Track35\n",
        "0534 ESR_Track53\n",
        "0524 ESR_Track37\n",
        "0525 ESR_Track38\n",
        "052f ESR_Track48\n",
        "052c ESR_Track45\n",
        "053b ESR_Track60\n",
        "052a ESR_Track43\n",
        "0526 ESR_Track39\n",
        "0529 ESR_Track42\n",
        "0528 ESR_Track41\n",
        "0527 ESR_Track40\n",
        "052b ESR_Track44\n",
        "0531 ESR_Track50\n",
        "052e ESR_Track47\n",
        "053e ESR_Track63\n",
        "053c ESR_Track61\n",
        "0535 ESR_Track54\n",
        "0537 ESR_Track56\n",
        "0539 ESR_Track58\n",
        "0533 ESR_Track52\n",
        "053a ESR_Track59\n",
        "0538 ESR_Track57\n",
        "0536 ESR_Track55\n",
        "0532 ESR_Track51\n",
        "0530 ESR_Track49\n",
        "0502 ESR_Track03\n",
        "0503 ESR_Track04\n",
        "0504 ESR_Track05\n",
        "051f ESR_Track32\n",
        "050a ESR_Track11\n",
        "050d ESR_Track14\n",
        "052d ESR_Track46\n",
        "053d ESR_Track62\n",
        "0501 ESR_Track02\n",
        "078f MMR_XCP_Inst_DAQ16\n",
        "078e MMR_XCP_Inst_DAQ15\n",
        "078d MMR_XCP_Inst_DAQ14\n",
        "078c MMR_XCP_Inst_DAQ13\n",
        "078b MMR_XCP_Inst_DAQ12\n",
        "078a MMR_XCP_Inst_DAQ11\n",
        "0789 MMR_XCP_Inst_DAQ10\n",
        "0788 MMR_XCP_Inst_DAQ09\n",
        "0787 MMR_XCP_Inst_DAQ08\n",
        "0786 MMR_XCP_Inst_DAQ07\n",
        "0785 MMR_XCP_Inst_DAQ06\n",
        "0784 MMR_XCP_Inst_DAQ05\n",
        "0783 MMR_XCP_Inst_DAQ04\n",
        "0782 MMR_XCP_Inst_DAQ03\n",
        "0781 MMR_XCP_Inst_DAQ02\n",
        "0780 MMR_XCP_Inst_DAQ01\n",
        "0763 MMR_XCP_Inst_Resp\n",
        "0762 MMR_XCP_Inst_Req\n",
        "05f4 Vehicle5\n",
        "05f3 Vehicle4\n",
        "05f2 Vehicle3\n",
        "05be CAN_TX_VOLVO_KDP_DIAG_PN\n",
        "05bd CAN_TX_FORD_WERS_DIAG_PN_2\n",
        "05bc CAN_TX_FORD_WERS_DIAG_PN_1\n",
        "05b8 CAN_TX_VOLVO_KDP_HOST_SW_PN\n",
        "05b7 CAN_TX_FORD_WERS_HOST_SW_PN_2\n",
        "05b6 CAN_TX_FORD_WERS_HOST_SW_PN_1\n",
        "05b5 CAN_TX_VOLVO_KDP_HW_PN\n",
        "05b4 CAN_TX_FORD_WERS_HW_PN_2\n",
        "05b3 CAN_TX_FORD_WERS_HW_PN_1\n",
        "05b2 CAN_TX_VOLVO_KDP_ASM_PN\n",
        "05b1 CAN_TX_FORD_WERS_ASM_PN_2\n",
        "05b0 CAN_TX_FORD_WERS_ASM_PN_1\n",
        "05e7 ESR_Status8\n",
        "05e6 ESR_Status7\n",
        "05e5 ESR_Status6\n",
        "05e4 ESR_Status5\n",
        "0540 ESR_TrackMotionPower\n",
        "04e3 ESR_Status4\n",
        "05d1 ESR_Valid2\n",
        "05d0 ESR_Valid1\n",
        "07ee MMR_Inst_Resp_FLASH\n",
        "07ed MMR_Inst_Req_FLASH\n",
        "07ec MMR_Inst_DAQ4\n",
        "07eb MMR_Inst_DAQ3\n",
        "07ea MMR_Inst_DAQ2\n",
        "07e9 MMR_Inst_DAQ1\n",
        "07e8 ACM_Inst_DAQ2\n",
        "07e3 MMR_Host_Inst_Resp\n",
        "07e1 MMR_Host_Inst_Req\n",
        "07e6 MMR_DSP_Inst_Resp\n",
        "07e5 MMR_DSP_Inst_Req\n",
        "07e4 ACM_Inst_Resp\n",
        "07e0 ACM_Inst_Req\n",
        "07e7 ACM_Inst_DAQ1\n",
        "05c0 ESR_Sim1\n",
        "04e2 ESR_Status3\n",
        "0500 ESR_Track01\n",
        "04e1 ESR_Status2\n",
        "04e0 ESR_Status1\n",
        "04f1 Vehicle2\n",
        "04f0 Vehicle1\n"
       ]
      }
     ],
     "prompt_number": 44
    },
    {
     "cell_type": "code",
     "collapsed": false,
     "input": [
      "#frame = db._fl._list[15]\n",
      "#frame = db._fl.byName('ESR_Status2')\n",
      "#frame = db._fl.byName('ESR_Track27')\n",
      "frame = db._fl.byName('Vehicle2')\n",
      "print db._fl.byId(0x4f1) == db._fl.byName('Vehicle2')\n",
      "print frame._Size, frame._signals\n",
      "frame._Reciever, frame._SignalGroups, frame._extended, frame._comment, frame._attributes, frame._Transmitter"
     ],
     "language": "python",
     "metadata": {},
     "outputs": [
      {
       "output_type": "stream",
       "stream": "stdout",
       "text": [
        "True\n",
        "8 [<library.canmatrix.Signal instance at 0x04B492D8>, <library.canmatrix.Signal instance at 0x04B49328>, <library.canmatrix.Signal instance at 0x04B49378>, <library.canmatrix.Signal instance at 0x04B493C8>, <library.canmatrix.Signal instance at 0x04B49440>, <library.canmatrix.Signal instance at 0x04B49490>, <library.canmatrix.Signal instance at 0x04B494E0>, <library.canmatrix.Signal instance at 0x04B49530>, <library.canmatrix.Signal instance at 0x04B49580>, <library.canmatrix.Signal instance at 0x04B495D0>, <library.canmatrix.Signal instance at 0x04B49648>, <library.canmatrix.Signal instance at 0x04B49698>, <library.canmatrix.Signal instance at 0x04B496E8>, <library.canmatrix.Signal instance at 0x04B49738>, <library.canmatrix.Signal instance at 0x04B49788>, <library.canmatrix.Signal instance at 0x04B497D8>, <library.canmatrix.Signal instance at 0x04B49828>, <library.canmatrix.Signal instance at 0x04B49878>]\n"
       ]
      },
      {
       "metadata": {},
       "output_type": "pyout",
       "prompt_number": 167,
       "text": [
        "([], [], 0, None, {}, ['Vehicle'])"
       ]
      }
     ],
     "prompt_number": 167
    },
    {
     "cell_type": "code",
     "collapsed": false,
     "input": [
      "for signal in frame._signals:\n",
      "    print signal._name"
     ],
     "language": "python",
     "metadata": {},
     "outputs": [
      {
       "output_type": "stream",
       "stream": "stdout",
       "text": [
        "CAN_RX_VOLVO_SHORT_TRACK_ROC\n",
        "CAN_RX_MR_ONLY_TRANSMIT\n",
        "CAN_RX_LR_ONLY_TRANSMIT\n",
        "CAN_RX_HIGH_YAW_ANGLE\n",
        "CAN_RX_CLEAR_FAULTS\n",
        "CAN_RX_USE_ANGLE_MISALIGNMENT\n",
        "CAN_RX_TURN_SIGNAL_STATUS\n",
        "CAN_RX_BLOCKAGE_DISABLE\n",
        "CAN_RX_VEHICLE_SPEED_VALIDITY\n",
        "CAN_RX_MMR_UPSIDE_DOWN\n",
        "CAN_RX_WIPER_STATUS\n",
        "CAN_RX_RAW_DATA_ENABLE\n",
        "CAN_RX_RADAR_CMD_RADIATE\n",
        "CAN_RX_GROUPING_MODE\n",
        "CAN_RX_MAXIMUM_TRACKS\n",
        "CAN_RX_LATERAL_MOUNTING_OFFSET\n",
        "CAN_RX_ANGLE_MISALIGNMENT\n",
        "CAN_RX_SCAN_INDEX_ACK\n"
       ]
      }
     ],
     "prompt_number": 85
    },
    {
     "cell_type": "code",
     "collapsed": false,
     "input": [
      "signal = frame.signalByName('CAN_RX_TURN_SIGNAL_STATUS')\n",
      "signal._startbit, signal._signalsize, signal._byteorder, signal._valuetype, signal._factor\n",
      "#print signal"
     ],
     "language": "python",
     "metadata": {},
     "outputs": [
      {
       "metadata": {},
       "output_type": "pyout",
       "prompt_number": 95,
       "text": [
        "(63, 2, 0, '+', '1')"
       ]
      }
     ],
     "prompt_number": 95
    },
    {
     "cell_type": "code",
     "collapsed": false,
     "input": [
      "print type(signal._attributes), True if signal._attributes else False, bool(signal._attributes)\n",
      "signal._reciever, signal._attributes, signal._values"
     ],
     "language": "python",
     "metadata": {},
     "outputs": [
      {
       "output_type": "stream",
       "stream": "stdout",
       "text": [
        "<type 'dict'> False False\n"
       ]
      },
      {
       "metadata": {},
       "output_type": "pyout",
       "prompt_number": 157,
       "text": [
        "(['Vector__XXX'], {}, {0: u'Off', 1: u'Left', 2: u'Right', 3: u'Invalid_3'})"
       ]
      }
     ],
     "prompt_number": 157
    },
    {
     "cell_type": "code",
     "collapsed": false,
     "input": [
      "signal._offset, signal._min, signal._max"
     ],
     "language": "python",
     "metadata": {},
     "outputs": [
      {
       "metadata": {},
       "output_type": "pyout",
       "prompt_number": 97,
       "text": [
        "('0', '0', '0')"
       ]
      }
     ],
     "prompt_number": 97
    },
    {
     "cell_type": "code",
     "collapsed": false,
     "input": [
      "import math\n",
      "class BitVector:\n",
      "     def __init__(self,val):\n",
      "         self._val = val\n",
      "\n",
      "     def __setslice__(self,highIndx,lowIndx,newVal):\n",
      "         assert math.ceil(math.log(newVal)/math.log(2)) <= (highIndx-lowIndx+1)\n",
      "\n",
      "         # clear out bit slice\n",
      "         clean_mask = (2**(highIndx+1)-1)^(2**(lowIndx)-1)\n",
      "\n",
      "         self._val = self._val ^ (self._val & clean_mask)\n",
      "         # set new value\n",
      "         self._val = self._val | (newVal<<lowIndx)\n",
      "\n",
      "     def __getslice__(self,highIndx,lowIndx):\n",
      "         return (self._val>>lowIndx)&(2L**(highIndx-lowIndx+1)-1)"
     ],
     "language": "python",
     "metadata": {},
     "outputs": [],
     "prompt_number": 99
    },
    {
     "cell_type": "markdown",
     "metadata": {},
     "source": [
      "# Here last see\n",
      "* ok, got the dbc extracted, now need to parse (receive/send) based on this, try with ESR first\n",
      "* try with RSDS\n",
      "* Develop gui using matplotlib and rospyqt"
     ]
    },
    {
     "cell_type": "code",
     "collapsed": false,
     "input": [
      "b = BitVector(0)\n",
      "b\n",
      "repr(b)\n",
      "b[63:60]=0xF\n",
      "#b[127:124]=0xF\n",
      "\n",
      "#b[255:252]=0xF\n",
      "print format(b[63:0],'08x')\n",
      "print repr((b[63:63], b[62:62], b[61:61], b[60:60]))\n",
      "\n",
      "True if (b[63:63]) else False,bool (b[63:63]),int (b[63:60]),int (b[61:60])"
     ],
     "language": "python",
     "metadata": {},
     "outputs": [
      {
       "output_type": "stream",
       "stream": "stdout",
       "text": [
        "f000000000000000\n",
        "(1L, 1L, 1L, 1L)\n"
       ]
      },
      {
       "metadata": {},
       "output_type": "pyout",
       "prompt_number": 131,
       "text": [
        "(True, True, 15, 3)"
       ]
      }
     ],
     "prompt_number": 131
    },
    {
     "cell_type": "code",
     "collapsed": false,
     "input": [
      "type(int(b[63:56]))"
     ],
     "language": "python",
     "metadata": {},
     "outputs": [
      {
       "metadata": {},
       "output_type": "pyout",
       "prompt_number": 136,
       "text": [
        "int"
       ]
      }
     ],
     "prompt_number": 136
    },
    {
     "cell_type": "code",
     "collapsed": false,
     "input": [
      "bytearray([int(b[63:56])])"
     ],
     "language": "python",
     "metadata": {},
     "outputs": [
      {
       "metadata": {},
       "output_type": "pyout",
       "prompt_number": 137,
       "text": [
        "bytearray(b'\\xf0')"
       ]
      }
     ],
     "prompt_number": 137
    },
    {
     "cell_type": "code",
     "collapsed": false,
     "input": [
      "b[3:0] = 0b1001\n",
      "b[7:4] = 0b0110\n",
      "print b[5:2] , bin(b[5:2]), type(bin(b[5:2]))\n",
      "b[7:2] , bin(b[7:2]), type(b[7:2])"
     ],
     "language": "python",
     "metadata": {},
     "outputs": [
      {
       "output_type": "stream",
       "stream": "stdout",
       "text": [
        "10 0b1010 <type 'str'>\n"
       ]
      },
      {
       "metadata": {},
       "output_type": "pyout",
       "prompt_number": 166,
       "text": [
        "(26L, '0b11010', long)"
       ]
      }
     ],
     "prompt_number": 166
    },
    {
     "cell_type": "code",
     "collapsed": false,
     "input": [
      "import numpy as np\n",
      "import matplotlib.pyplot as plt\n",
      "import matplotlib.animation as animation\n",
      "\n",
      "def data_gen():\n",
      "    t = data_gen.t\n",
      "    cnt = 0\n",
      "    while cnt < 1000:\n",
      "        cnt+=1\n",
      "        t += 0.05\n",
      "        yield t, np.sin(2*np.pi*t) * np.exp(-t/10.)\n",
      "data_gen.t = 0\n",
      "\n",
      "fig, ax = plt.subplots()\n",
      "line, = ax.plot([], [], lw=2)\n",
      "ax.set_ylim(-1.1, 1.1)\n",
      "ax.set_xlim(0, 5)\n",
      "ax.grid()\n",
      "xdata, ydata = [], []\n",
      "def run(data):\n",
      "    # update the data\n",
      "    t,y = data\n",
      "    xdata.append(t)\n",
      "    ydata.append(y)\n",
      "    xmin, xmax = ax.get_xlim()\n",
      "\n",
      "    if t >= xmax:\n",
      "        ax.set_xlim(xmin, 2*xmax)\n",
      "        ax.figure.canvas.draw()\n",
      "    line.set_data(xdata, ydata)\n",
      "\n",
      "    return line,\n",
      "\n",
      "ani = animation.FuncAnimation(fig, run, data_gen, blit=True, interval=10,\n",
      "    repeat=False)\n",
      "plt.show()"
     ],
     "language": "python",
     "metadata": {},
     "outputs": [],
     "prompt_number": 25
    },
    {
     "cell_type": "code",
     "collapsed": false,
     "input": [
      "import numpy as np\n",
      "import matplotlib.pyplot as plt\n",
      "import mpl_toolkits.mplot3d.axes3d as p3\n",
      "import matplotlib.animation as animation\n",
      "\n",
      "def Gen_RandLine(length, dims=2) :\n",
      "    \"\"\"\n",
      "    Create a line using a random walk algorithm\n",
      "\n",
      "    length is the number of points for the line.\n",
      "    dims is the number of dimensions the line has.\n",
      "    \"\"\"\n",
      "    lineData = np.empty((dims, length))\n",
      "    lineData[:, 0] = np.random.rand(dims)\n",
      "    for index in range(1, length) :\n",
      "        # scaling the random numbers by 0.1 so\n",
      "        # movement is small compared to position.\n",
      "        # subtraction by 0.5 is to change the range to [-0.5, 0.5]\n",
      "        # to allow a line to move backwards.\n",
      "        step = ((np.random.rand(dims) - 0.5) * 0.1)\n",
      "        lineData[:, index] = lineData[:, index-1] + step\n",
      "\n",
      "    return lineData\n",
      "\n",
      "def update_lines(num, dataLines, lines) :\n",
      "    for line, data in zip(lines, dataLines) :\n",
      "        # NOTE: there is no .set_data() for 3 dim data...\n",
      "        line.set_data(data[0:2, :num])\n",
      "        line.set_3d_properties(data[2,:num])\n",
      "    return lines\n",
      "\n",
      "# Attaching 3D axis to the figure\n",
      "fig = plt.figure()\n",
      "ax = p3.Axes3D(fig)\n",
      "\n",
      "# Fifty lines of random 3-D lines\n",
      "data = [Gen_RandLine(25, 3) for index in range(50)]\n",
      "\n",
      "# Creating fifty line objects.\n",
      "# NOTE: Can't pass empty arrays into 3d version of plot()\n",
      "lines = [ax.plot(dat[0, 0:1], dat[1, 0:1], dat[2, 0:1])[0] for dat in data]\n",
      "\n",
      "# Setting the axes properties\n",
      "ax.set_xlim3d([0.0, 1.0])\n",
      "ax.set_xlabel('X')\n",
      "\n",
      "ax.set_ylim3d([0.0, 1.0])\n",
      "ax.set_ylabel('Y')\n",
      "\n",
      "ax.set_zlim3d([0.0, 1.0])\n",
      "ax.set_zlabel('Z')\n",
      "\n",
      "ax.set_title('3D Test')\n",
      "\n",
      "# Creating the Animation object\n",
      "line_ani = animation.FuncAnimation(fig, update_lines, 25, fargs=(data, lines),\n",
      "                              interval=50, blit=False)\n",
      "\n",
      "plt.show()"
     ],
     "language": "python",
     "metadata": {},
     "outputs": [
      {
       "output_type": "stream",
       "stream": "stderr",
       "text": [
        "C:\\Python27\\lib\\site-packages\\mpl_toolkits\\mplot3d\\axes3d.py:1094: FutureWarning: comparison to `None` will result in an elementwise object comparison in the future.\n",
        "  if self.button_pressed in self._rotate_btn:\n"
       ]
      },
      {
       "ename": "AttributeError",
       "evalue": "'NoneType' object has no attribute 'tk'",
       "output_type": "pyerr",
       "traceback": [
        "\u001b[1;31m---------------------------------------------------------------------------\u001b[0m\n\u001b[1;31mAttributeError\u001b[0m                            Traceback (most recent call last)",
        "\u001b[1;32m<ipython-input-26-27dd12ee8a5e>\u001b[0m in \u001b[0;36m<module>\u001b[1;34m()\u001b[0m\n\u001b[0;32m     57\u001b[0m                               interval=50, blit=False)\n\u001b[0;32m     58\u001b[0m \u001b[1;33m\u001b[0m\u001b[0m\n\u001b[1;32m---> 59\u001b[1;33m \u001b[0mplt\u001b[0m\u001b[1;33m.\u001b[0m\u001b[0mshow\u001b[0m\u001b[1;33m(\u001b[0m\u001b[1;33m)\u001b[0m\u001b[1;33m\u001b[0m\u001b[0m\n\u001b[0m",
        "\u001b[1;32mC:\\Python27\\lib\\site-packages\\matplotlib\\pyplot.pyc\u001b[0m in \u001b[0;36mshow\u001b[1;34m(*args, **kw)\u001b[0m\n\u001b[0;32m    153\u001b[0m     \"\"\"\n\u001b[0;32m    154\u001b[0m     \u001b[1;32mglobal\u001b[0m \u001b[0m_show\u001b[0m\u001b[1;33m\u001b[0m\u001b[0m\n\u001b[1;32m--> 155\u001b[1;33m     \u001b[1;32mreturn\u001b[0m \u001b[0m_show\u001b[0m\u001b[1;33m(\u001b[0m\u001b[1;33m*\u001b[0m\u001b[0margs\u001b[0m\u001b[1;33m,\u001b[0m \u001b[1;33m**\u001b[0m\u001b[0mkw\u001b[0m\u001b[1;33m)\u001b[0m\u001b[1;33m\u001b[0m\u001b[0m\n\u001b[0m\u001b[0;32m    156\u001b[0m \u001b[1;33m\u001b[0m\u001b[0m\n\u001b[0;32m    157\u001b[0m \u001b[1;33m\u001b[0m\u001b[0m\n",
        "\u001b[1;32mC:\\Python27\\lib\\site-packages\\matplotlib\\backend_bases.pyc\u001b[0m in \u001b[0;36m__call__\u001b[1;34m(self, block)\u001b[0m\n\u001b[0;32m    182\u001b[0m \u001b[1;33m\u001b[0m\u001b[0m\n\u001b[0;32m    183\u001b[0m         \u001b[1;32mif\u001b[0m \u001b[1;32mnot\u001b[0m \u001b[0mis_interactive\u001b[0m\u001b[1;33m(\u001b[0m\u001b[1;33m)\u001b[0m \u001b[1;32mor\u001b[0m \u001b[0mget_backend\u001b[0m\u001b[1;33m(\u001b[0m\u001b[1;33m)\u001b[0m \u001b[1;33m==\u001b[0m \u001b[1;34m'WebAgg'\u001b[0m\u001b[1;33m:\u001b[0m\u001b[1;33m\u001b[0m\u001b[0m\n\u001b[1;32m--> 184\u001b[1;33m             \u001b[0mself\u001b[0m\u001b[1;33m.\u001b[0m\u001b[0mmainloop\u001b[0m\u001b[1;33m(\u001b[0m\u001b[1;33m)\u001b[0m\u001b[1;33m\u001b[0m\u001b[0m\n\u001b[0m\u001b[0;32m    185\u001b[0m \u001b[1;33m\u001b[0m\u001b[0m\n\u001b[0;32m    186\u001b[0m     \u001b[1;32mdef\u001b[0m \u001b[0mmainloop\u001b[0m\u001b[1;33m(\u001b[0m\u001b[0mself\u001b[0m\u001b[1;33m)\u001b[0m\u001b[1;33m:\u001b[0m\u001b[1;33m\u001b[0m\u001b[0m\n",
        "\u001b[1;32mC:\\Python27\\lib\\site-packages\\matplotlib\\backends\\backend_tkagg.pyc\u001b[0m in \u001b[0;36mmainloop\u001b[1;34m(self)\u001b[0m\n\u001b[0;32m     69\u001b[0m \u001b[1;32mclass\u001b[0m \u001b[0mShow\u001b[0m\u001b[1;33m(\u001b[0m\u001b[0mShowBase\u001b[0m\u001b[1;33m)\u001b[0m\u001b[1;33m:\u001b[0m\u001b[1;33m\u001b[0m\u001b[0m\n\u001b[0;32m     70\u001b[0m     \u001b[1;32mdef\u001b[0m \u001b[0mmainloop\u001b[0m\u001b[1;33m(\u001b[0m\u001b[0mself\u001b[0m\u001b[1;33m)\u001b[0m\u001b[1;33m:\u001b[0m\u001b[1;33m\u001b[0m\u001b[0m\n\u001b[1;32m---> 71\u001b[1;33m         \u001b[0mTk\u001b[0m\u001b[1;33m.\u001b[0m\u001b[0mmainloop\u001b[0m\u001b[1;33m(\u001b[0m\u001b[1;33m)\u001b[0m\u001b[1;33m\u001b[0m\u001b[0m\n\u001b[0m\u001b[0;32m     72\u001b[0m \u001b[1;33m\u001b[0m\u001b[0m\n\u001b[0;32m     73\u001b[0m \u001b[0mshow\u001b[0m \u001b[1;33m=\u001b[0m \u001b[0mShow\u001b[0m\u001b[1;33m(\u001b[0m\u001b[1;33m)\u001b[0m\u001b[1;33m\u001b[0m\u001b[0m\n",
        "\u001b[1;32mC:\\Python27\\lib\\lib-tk\\Tkinter.pyc\u001b[0m in \u001b[0;36mmainloop\u001b[1;34m(n)\u001b[0m\n\u001b[0;32m    408\u001b[0m \u001b[1;32mdef\u001b[0m \u001b[0mmainloop\u001b[0m\u001b[1;33m(\u001b[0m\u001b[0mn\u001b[0m\u001b[1;33m=\u001b[0m\u001b[1;36m0\u001b[0m\u001b[1;33m)\u001b[0m\u001b[1;33m:\u001b[0m\u001b[1;33m\u001b[0m\u001b[0m\n\u001b[0;32m    409\u001b[0m     \u001b[1;34m\"\"\"Run the main loop of Tcl.\"\"\"\u001b[0m\u001b[1;33m\u001b[0m\u001b[0m\n\u001b[1;32m--> 410\u001b[1;33m     \u001b[0m_default_root\u001b[0m\u001b[1;33m.\u001b[0m\u001b[0mtk\u001b[0m\u001b[1;33m.\u001b[0m\u001b[0mmainloop\u001b[0m\u001b[1;33m(\u001b[0m\u001b[0mn\u001b[0m\u001b[1;33m)\u001b[0m\u001b[1;33m\u001b[0m\u001b[0m\n\u001b[0m\u001b[0;32m    411\u001b[0m \u001b[1;33m\u001b[0m\u001b[0m\n\u001b[0;32m    412\u001b[0m \u001b[0mgetint\u001b[0m \u001b[1;33m=\u001b[0m \u001b[0mint\u001b[0m\u001b[1;33m\u001b[0m\u001b[0m\n",
        "\u001b[1;31mAttributeError\u001b[0m: 'NoneType' object has no attribute 'tk'"
       ]
      }
     ],
     "prompt_number": 26
    },
    {
     "cell_type": "code",
     "collapsed": false,
     "input": [],
     "language": "python",
     "metadata": {},
     "outputs": []
    }
   ],
   "metadata": {}
  }
 ]
}